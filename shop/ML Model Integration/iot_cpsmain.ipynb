{
 "cells": [
  {
   "cell_type": "code",
   "execution_count": 1,
   "metadata": {
    "colab": {
     "base_uri": "https://localhost:8080/"
    },
    "id": "DK9anp1DseU_",
    "outputId": "43c045da-a1eb-4304-9247-469c183415cc"
   },
   "outputs": [
    {
     "name": "stderr",
     "output_type": "stream",
     "text": [
      "D:\\Anaconda\\anaconda\\Lib\\site-packages\\sklearn\\preprocessing\\_encoders.py:868: FutureWarning: `sparse` was renamed to `sparse_output` in version 1.2 and will be removed in 1.4. `sparse_output` is ignored unless you leave `sparse` to its default value.\n",
      "  warnings.warn(\n"
     ]
    },
    {
     "name": "stdout",
     "output_type": "stream",
     "text": [
      "Model's Mean Squared Error (MSE): 731.1669999999998\n"
     ]
    }
   ],
   "source": [
    "import pandas as pd\n",
    "from sklearn.model_selection import train_test_split\n",
    "from sklearn.linear_model import LinearRegression\n",
    "from sklearn.metrics import mean_squared_error\n",
    "from sklearn.preprocessing import OneHotEncoder\n",
    "import pickle\n",
    "\n",
    "# Load your data\n",
    "data_path = 'shopmanage.csv'  # Update the path accordingly\n",
    "data = pd.read_csv(data_path)\n",
    "\n",
    "# One-hot encode the 'Day' column\n",
    "encoder = OneHotEncoder(sparse=False)\n",
    "encoded_days = encoder.fit_transform(data[['Day']])\n",
    "\n",
    "# Create a DataFrame from the encoded days\n",
    "encoded_days_df = pd.DataFrame(encoded_days, columns=encoder.get_feature_names_out(['Day']))\n",
    "\n",
    "# Combine the original data with the encoded days\n",
    "data_with_encoded_days = pd.concat([data, encoded_days_df], axis=1)\n",
    "\n",
    "# Prepare the data for model training\n",
    "X = data_with_encoded_days[encoder.get_feature_names_out(['Day'])]\n",
    "y = data_with_encoded_days['Customer Count']\n",
    "\n",
    "# Splitting the data into training and testing sets\n",
    "X_train, X_test, y_train, y_test = train_test_split(X, y, test_size=0.2, random_state=42)\n",
    "\n",
    "# Initialize and train the model\n",
    "model = LinearRegression()\n",
    "model.fit(X_train, y_train)\n",
    "\n",
    "# Predicting on the test set\n",
    "y_pred = model.predict(X_test)\n",
    "\n",
    "# Calculating the model performance\n",
    "mse = mean_squared_error(y_test, y_pred)\n",
    "print(f\"Model's Mean Squared Error (MSE): {mse}\")\n",
    "\n",
    "# Saving the model to a pickle file\n",
    "pickle.dump(model, open('crowd.pkl', 'wb'))\n",
    "pickle.dump(encoder,open('encoder.pkl','wb'))\n"
   ]
  },
  {
   "cell_type": "code",
   "execution_count": 4,
   "metadata": {
    "colab": {
     "base_uri": "https://localhost:8080/"
    },
    "id": "Mob9WXyT7LAW",
    "outputId": "cbe31a2c-bb2d-4ade-aa22-ca86a6c17787"
   },
   "outputs": [
    {
     "data": {
      "text/plain": [
       "array([37.4])"
      ]
     },
     "execution_count": 4,
     "metadata": {},
     "output_type": "execute_result"
    }
   ],
   "source": [
    "day_str='Friday'\n",
    "data1 = {f'Day_{x}': 0 for x in ['Friday', 'Monday', 'Saturday', 'Sunday', 'Thursday', 'Tuesday', 'Wednesday']}\n",
    "if f'Day_{day_str}' in data1:\n",
    "    data1[f'Day_{day_str}'] = 1\n",
    "input_df1=pd.DataFrame([data1])\n",
    "input_df1\n",
    "model.predict(input_df1)"
   ]
  },
  {
   "cell_type": "code",
   "execution_count": null,
   "metadata": {},
   "outputs": [],
   "source": []
  }
 ],
 "metadata": {
  "colab": {
   "provenance": []
  },
  "kernelspec": {
   "display_name": "Python 3 (ipykernel)",
   "language": "python",
   "name": "python3"
  },
  "language_info": {
   "codemirror_mode": {
    "name": "ipython",
    "version": 3
   },
   "file_extension": ".py",
   "mimetype": "text/x-python",
   "name": "python",
   "nbconvert_exporter": "python",
   "pygments_lexer": "ipython3",
   "version": "3.11.7"
  }
 },
 "nbformat": 4,
 "nbformat_minor": 0
}
